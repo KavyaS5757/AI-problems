{
  "nbformat": 4,
  "nbformat_minor": 0,
  "metadata": {
    "colab": {
      "provenance": [],
      "authorship_tag": "ABX9TyMYvAImVfxr/NUbjltUH1OB",
      "include_colab_link": true
    },
    "kernelspec": {
      "name": "python3",
      "display_name": "Python 3"
    },
    "language_info": {
      "name": "python"
    }
  },
  "cells": [
    {
      "cell_type": "markdown",
      "metadata": {
        "id": "view-in-github",
        "colab_type": "text"
      },
      "source": [
        "<a href=\"https://colab.research.google.com/github/KavyaS5757/AI-problems/blob/main/Exp%20-%20RIformer/Exp2_Rot_MNIST(MNIST2)_riformer.ipynb\" target=\"_parent\"><img src=\"https://colab.research.google.com/assets/colab-badge.svg\" alt=\"Open In Colab\"/></a>"
      ]
    },
    {
      "cell_type": "code",
      "execution_count": 1,
      "metadata": {
        "colab": {
          "base_uri": "https://localhost:8080/"
        },
        "id": "qmxEjDiJajku",
        "outputId": "fc2ca513-b87c-4151-a62d-2396e6f52410"
      },
      "outputs": [
        {
          "output_type": "stream",
          "name": "stdout",
          "text": [
            "torch.Size([8, 10])\n"
          ]
        }
      ],
      "source": [
        "  import torch.nn as nn\n",
        "  import torch\n",
        "\n",
        "  # Define the RotateRelEbd class\n",
        "  class RotateRelEbd(nn.Module):\n",
        "      def __init__(self, dim, n_circle=2):\n",
        "          super().__init__()\n",
        "          diff_add_values = [-1, 0, 1, 2]\n",
        "          for i in range(n_circle):  # circle: from outside to inside\n",
        "              circle_mat = nn.Parameter(torch.zeros(1, dim)+diff_add_values[i])\n",
        "              setattr(self, f\"circle_mat{i}\", circle_mat)\n",
        "\n",
        "      def forward(self, x):\n",
        "          H, W = x.shape[2], x.shape[3]\n",
        "          out = torch.zeros_like(x, dtype=torch.float32)\n",
        "          for i in range(H):\n",
        "              for j in range(W):\n",
        "                  dis_2_edge = min(i, j, H-i-1, W-j-1)\n",
        "                  cir = getattr(self, f\"circle_mat{dis_2_edge}\")\n",
        "                  out[:, :, i, j] = x[:, :, i, j].clone() + cir\n",
        "          return out\n",
        "\n",
        "  # Define the group_1x1_conv function\n",
        "  def group_1x1_conv(n_group, in_chan, out_chan):\n",
        "      return nn.Conv2d(\n",
        "          in_channels=in_chan,\n",
        "          out_channels=out_chan,\n",
        "          kernel_size=1,\n",
        "          stride=1,\n",
        "          padding=0,\n",
        "          bias=False,\n",
        "          groups=n_group\n",
        "      )\n",
        "\n",
        "  # Define the Group_Pixel_Embed class\n",
        "  class Group_Pixel_Embed(nn.Module):\n",
        "      def __init__(self, n_group, in_chan, out_chan, spatial_reduce):\n",
        "          super().__init__()\n",
        "          self.g1conv = group_1x1_conv(n_group, in_chan, out_chan)\n",
        "          self.pool = nn.AvgPool2d(kernel_size=spatial_reduce, stride=spatial_reduce)\n",
        "          self.bn = nn.BatchNorm2d(num_features=out_chan)\n",
        "          self.ac = nn.LeakyReLU(inplace=True)\n",
        "\n",
        "      def forward(self, x):\n",
        "          x = self.g1conv(x)\n",
        "          x = self.pool(x)\n",
        "          x = self.ac(self.bn(x))\n",
        "          return x\n",
        "\n",
        "  # Define the Mlp class\n",
        "  class Mlp(nn.Module):\n",
        "      def __init__(self, in_features, hidden_features=None, out_features=None, drop=0.):\n",
        "          super().__init__()\n",
        "          out_features = out_features or in_features\n",
        "          hidden_features = hidden_features or in_features\n",
        "          self.fc1 = nn.Linear(in_features, hidden_features)\n",
        "          self.act = nn.GELU()\n",
        "          self.fc2 = nn.Linear(hidden_features, out_features)\n",
        "          self.drop = nn.Dropout(drop)\n",
        "\n",
        "      def forward(self, x):\n",
        "          x = self.fc1(x)\n",
        "          x = self.act(x)\n",
        "          x = self.drop(x)\n",
        "          x = self.fc2(x)\n",
        "          x = self.drop(x)\n",
        "          return x\n",
        "\n",
        "  # Define the Attention class\n",
        "  class Attention(nn.Module):\n",
        "      def __init__(self, dim, num_heads=8, attn_drop=0., proj_drop=0.):\n",
        "          super().__init__()\n",
        "          self.dim = dim\n",
        "          self.num_heads = num_heads\n",
        "          self.q = nn.Linear(dim, dim, bias=True)\n",
        "          self.kv = nn.Linear(dim, dim * 2, bias=True)\n",
        "          self.attn_drop = nn.Dropout(attn_drop)\n",
        "          self.proj = nn.Linear(dim, dim)\n",
        "          self.proj_drop = nn.Dropout(proj_drop)\n",
        "\n",
        "      def forward(self, x):\n",
        "          B, N, C = x.shape\n",
        "          q = self.q(x).reshape(B, N, self.num_heads, C // self.num_heads).permute(0, 2, 1, 3)\n",
        "          kv = self.kv(x).reshape(B, -1, 2, self.num_heads, C // self.num_heads).permute(2, 0, 3, 1, 4)\n",
        "          k, v = kv[0], kv[1]\n",
        "\n",
        "          attn = (q @ k.transpose(-2, -1))\n",
        "          attn = attn.softmax(dim=-1)\n",
        "          attn = self.attn_drop(attn)\n",
        "\n",
        "          x = (attn @ v).transpose(1, 2).reshape(B, N, C)\n",
        "          x = self.proj(x)\n",
        "          x = self.proj_drop(x)\n",
        "\n",
        "          return x\n",
        "\n",
        "  # Define the Block class\n",
        "  class Block(nn.Module):\n",
        "      def __init__(self, dim, num_heads=8, mlp_ratio=1, drop=0., attn_drop=0.):\n",
        "          super().__init__()\n",
        "          self.norm1 = nn.LayerNorm(dim)\n",
        "          self.attn = Attention(dim, num_heads=num_heads, attn_drop=attn_drop, proj_drop=drop)\n",
        "          self.norm2 = nn.LayerNorm(dim)\n",
        "          mlp_hidden_dim = int(dim * mlp_ratio)\n",
        "          self.mlp = Mlp(in_features=dim, hidden_features=mlp_hidden_dim, drop=drop)\n",
        "\n",
        "      def forward(self, x):\n",
        "          x = x + self.attn(self.norm1(x))\n",
        "          x = x + self.mlp(self.norm2(x))\n",
        "          return x\n",
        "\n",
        "  # Define the RIFormer class\n",
        "  class RIFormer(nn.Module):\n",
        "      def __init__(self, emb_type=None, C1=32, C2=64, C3=128, C4=256, mlp_ratio=2, n_class=10):\n",
        "          super().__init__()\n",
        "          self.emb_type = emb_type\n",
        "          self.gpe_1 = Group_Pixel_Embed(n_group=1, in_chan=3, out_chan=C1, spatial_reduce=4)  # in_chan changed to 1\n",
        "          # rot_ebd or pos_ebd\n",
        "          self.rot_ebd_1 = RotateRelEbd(C1, n_circle=4)  # 4,2,1,1\n",
        "          self.pos_ebd_1 = nn.Parameter(torch.zeros(1, 8*8, C1))  # 8 * 8 = fmap size\n",
        "          self.block_1_1 = Block(dim=C1, num_heads=1, mlp_ratio=mlp_ratio)\n",
        "          self.block_1_2 = Block(dim=C1, num_heads=1, mlp_ratio=mlp_ratio)\n",
        "          self.many_1 = nn.Sequential(self.block_1_1, self.block_1_2)\n",
        "\n",
        "          self.gpe_2 = Group_Pixel_Embed(n_group=1, in_chan=C1, out_chan=C2, spatial_reduce=2)\n",
        "          self.rot_ebd_2 = RotateRelEbd(C2, n_circle=2)  # 4,2,1,1\n",
        "          self.pos_ebd_2 = nn.Parameter(torch.zeros(1, 4*4, C2))\n",
        "          self.block_2_1 = Block(dim=C2, num_heads=2, mlp_ratio=mlp_ratio)\n",
        "          self.block_2_2 = Block(dim=C2, num_heads=2, mlp_ratio=mlp_ratio)\n",
        "          self.many_2 = nn.Sequential(self.block_2_1, self.block_2_2)\n",
        "\n",
        "          self.gpe_3 = Group_Pixel_Embed(n_group=1, in_chan=C2, out_chan=C3, spatial_reduce=2)\n",
        "          self.rot_ebd_3 = RotateRelEbd(C3, n_circle=1)  # 4,2,1,1\n",
        "          self.pos_ebd_3 = nn.Parameter(torch.zeros(1, 2*2, C3))\n",
        "          self.block_3_1 = Block(dim=C3, num_heads=4, mlp_ratio=mlp_ratio)\n",
        "          self.block_3_2 = Block(dim=C3, num_heads=4, mlp_ratio=mlp_ratio)\n",
        "          self.many_3 = nn.Sequential(self.block_3_1, self.block_3_2)\n",
        "\n",
        "          self.gpe_4 = Group_Pixel_Embed(n_group=1, in_chan=C3, out_chan=C4, spatial_reduce=2)\n",
        "          self.rot_ebd_4 = RotateRelEbd(C4, n_circle=1)  # 4,2,1,1\n",
        "          self.pos_ebd_4 = nn.Parameter(torch.zeros(1, 1*1, C4))\n",
        "          self.block_4_1 = Block(dim=C4, num_heads=8, mlp_ratio=mlp_ratio)\n",
        "          self.block_4_2 = Block(dim=C4, num_heads=8, mlp_ratio=mlp_ratio)\n",
        "          self.many_4 = nn.Sequential(self.block_4_1, self.block_4_2)\n",
        "\n",
        "          self.cls_layer = nn.Linear(C4, n_class)\n",
        "\n",
        "      def forward(self, x):\n",
        "            B, C, H, W = x.shape[0], x.shape[1], x.shape[2], x.shape[3]\n",
        "\n",
        "            x = self.gpe_1(x)\n",
        "            if self.emb_type == 'rot':\n",
        "                x = self.rot_ebd_1(x)\n",
        "            x = x.flatten(2).transpose(1, 2)\n",
        "            if self.emb_type == 'pos':\n",
        "                x = x + self.pos_ebd_1\n",
        "            x = self.many_1(x)\n",
        "            x = x.reshape(B, H//4, W//4, -1).permute(0, 3, 1, 2).contiguous()\n",
        "\n",
        "            x = self.gpe_2(x)\n",
        "            if self.emb_type == 'rot':\n",
        "                x = self.rot_ebd_2(x)\n",
        "            x = x.flatten(2).transpose(1, 2)\n",
        "            if self.emb_type == 'pos':\n",
        "                x = x + self.pos_ebd_2\n",
        "            x = self.many_2(x)\n",
        "            x = x.reshape(B, H//8, W//8, -1).permute(0, 3, 1, 2).contiguous()\n",
        "\n",
        "            x = self.gpe_3(x)\n",
        "            if self.emb_type == 'rot':\n",
        "                x = self.rot_ebd_3(x)\n",
        "            x = x.flatten(2).transpose(1, 2)\n",
        "            if self.emb_type == 'pos':\n",
        "                x = x + self.pos_ebd_3\n",
        "            x = self.many_3(x)\n",
        "            x = x.reshape(B, H//16, W//16, -1).permute(0, 3, 1, 2).contiguous()\n",
        "\n",
        "            x = self.gpe_4(x)\n",
        "            if self.emb_type == 'rot':\n",
        "                x = self.rot_ebd_4(x)\n",
        "            x = x.flatten(2).transpose(1, 2)\n",
        "            if self.emb_type == 'pos':\n",
        "                x = x + self.pos_ebd_4\n",
        "            x = self.many_4(x)\n",
        "            x = x.reshape(B, H//32, W//32, -1).permute(0, 3, 1, 2).contiguous()\n",
        "            x = x.flatten(start_dim=1)\n",
        "\n",
        "            x = self.cls_layer(x)\n",
        "\n",
        "            return x\n",
        "\n",
        "  if __name__ == \"__main__\":\n",
        "      input_t = torch.rand(8, 3, 32, 32)\n",
        "      net = RIFormer(emb_type='rot', n_class=10)\n",
        "      print(net(input_t).shape)"
      ]
    },
    {
      "cell_type": "code",
      "source": [
        "import torch\n",
        "import torchvision\n",
        "import torchvision.transforms as transforms\n",
        "import torch.nn as nn\n",
        "import torch.optim as optim\n",
        "from torch.utils.data import DataLoader, random_split\n",
        "from torchvision import datasets"
      ],
      "metadata": {
        "id": "kDsncHsPbeLc"
      },
      "execution_count": 2,
      "outputs": []
    },
    {
      "cell_type": "code",
      "source": [
        "# Define transformation for the MNIST dataset with random rotations\n",
        "train_transform = transforms.Compose([\n",
        "    transforms.Resize((32, 32)),\n",
        "    transforms.RandomChoice([\n",
        "        transforms.RandomRotation(degrees=(0, 0)),\n",
        "        transforms.RandomRotation(degrees=(90, 90)),\n",
        "        transforms.RandomRotation(degrees=(180, 180)),\n",
        "        transforms.RandomRotation(degrees=(270, 270)),\n",
        "    ]),\n",
        "    transforms.ToTensor(),\n",
        "    transforms.Normalize((0.1307,), (0.3081,)),\n",
        "    transforms.Lambda(lambda x: x.repeat(3, 1, 1))  # Repeat the grayscale channel 3 times\n",
        "])\n"
      ],
      "metadata": {
        "id": "bqhxbbaCbe_i"
      },
      "execution_count": 3,
      "outputs": []
    },
    {
      "cell_type": "code",
      "source": [
        "# Load the MNIST dataset with the specified transformation\n",
        "train_dataset = datasets.MNIST(root='./data', train=True, download=True, transform=train_transform)\n",
        "test_dataset = datasets.MNIST(root='./data', train=False, download=True, transform=train_transform)\n"
      ],
      "metadata": {
        "id": "NQ8IHup-bj-C",
        "colab": {
          "base_uri": "https://localhost:8080/"
        },
        "outputId": "c5dae717-30fe-4ae0-f957-0b39a04ca7d5"
      },
      "execution_count": 4,
      "outputs": [
        {
          "output_type": "stream",
          "name": "stdout",
          "text": [
            "Downloading http://yann.lecun.com/exdb/mnist/train-images-idx3-ubyte.gz\n",
            "Failed to download (trying next):\n",
            "HTTP Error 403: Forbidden\n",
            "\n",
            "Downloading https://ossci-datasets.s3.amazonaws.com/mnist/train-images-idx3-ubyte.gz\n",
            "Downloading https://ossci-datasets.s3.amazonaws.com/mnist/train-images-idx3-ubyte.gz to ./data/MNIST/raw/train-images-idx3-ubyte.gz\n"
          ]
        },
        {
          "output_type": "stream",
          "name": "stderr",
          "text": [
            "100%|██████████| 9912422/9912422 [00:01<00:00, 5222779.45it/s]\n"
          ]
        },
        {
          "output_type": "stream",
          "name": "stdout",
          "text": [
            "Extracting ./data/MNIST/raw/train-images-idx3-ubyte.gz to ./data/MNIST/raw\n",
            "\n",
            "Downloading http://yann.lecun.com/exdb/mnist/train-labels-idx1-ubyte.gz\n",
            "Failed to download (trying next):\n",
            "HTTP Error 403: Forbidden\n",
            "\n",
            "Downloading https://ossci-datasets.s3.amazonaws.com/mnist/train-labels-idx1-ubyte.gz\n",
            "Downloading https://ossci-datasets.s3.amazonaws.com/mnist/train-labels-idx1-ubyte.gz to ./data/MNIST/raw/train-labels-idx1-ubyte.gz\n"
          ]
        },
        {
          "output_type": "stream",
          "name": "stderr",
          "text": [
            "100%|██████████| 28881/28881 [00:00<00:00, 153579.52it/s]\n"
          ]
        },
        {
          "output_type": "stream",
          "name": "stdout",
          "text": [
            "Extracting ./data/MNIST/raw/train-labels-idx1-ubyte.gz to ./data/MNIST/raw\n",
            "\n",
            "Downloading http://yann.lecun.com/exdb/mnist/t10k-images-idx3-ubyte.gz\n",
            "Failed to download (trying next):\n",
            "HTTP Error 403: Forbidden\n",
            "\n",
            "Downloading https://ossci-datasets.s3.amazonaws.com/mnist/t10k-images-idx3-ubyte.gz\n",
            "Downloading https://ossci-datasets.s3.amazonaws.com/mnist/t10k-images-idx3-ubyte.gz to ./data/MNIST/raw/t10k-images-idx3-ubyte.gz\n"
          ]
        },
        {
          "output_type": "stream",
          "name": "stderr",
          "text": [
            "100%|██████████| 1648877/1648877 [00:01<00:00, 1445201.41it/s]\n"
          ]
        },
        {
          "output_type": "stream",
          "name": "stdout",
          "text": [
            "Extracting ./data/MNIST/raw/t10k-images-idx3-ubyte.gz to ./data/MNIST/raw\n",
            "\n",
            "Downloading http://yann.lecun.com/exdb/mnist/t10k-labels-idx1-ubyte.gz\n",
            "Failed to download (trying next):\n",
            "HTTP Error 403: Forbidden\n",
            "\n",
            "Downloading https://ossci-datasets.s3.amazonaws.com/mnist/t10k-labels-idx1-ubyte.gz\n",
            "Downloading https://ossci-datasets.s3.amazonaws.com/mnist/t10k-labels-idx1-ubyte.gz to ./data/MNIST/raw/t10k-labels-idx1-ubyte.gz\n"
          ]
        },
        {
          "output_type": "stream",
          "name": "stderr",
          "text": [
            "100%|██████████| 4542/4542 [00:00<00:00, 2399613.15it/s]"
          ]
        },
        {
          "output_type": "stream",
          "name": "stdout",
          "text": [
            "Extracting ./data/MNIST/raw/t10k-labels-idx1-ubyte.gz to ./data/MNIST/raw\n",
            "\n"
          ]
        },
        {
          "output_type": "stream",
          "name": "stderr",
          "text": [
            "\n"
          ]
        }
      ]
    },
    {
      "cell_type": "code",
      "source": [
        "# Split the full dataset into 80% for training and 20% for testing\n",
        "train_size = int(0.8 * len(train_dataset))\n",
        "test_size = len(train_dataset) - train_size\n",
        "train_dataset, _ = random_split(train_dataset, [train_size, test_size])"
      ],
      "metadata": {
        "id": "RDdLM1JXbpFv"
      },
      "execution_count": 5,
      "outputs": []
    },
    {
      "cell_type": "code",
      "source": [
        "# Further split the training dataset into 85% for training and 15% for validation\n",
        "val_size = int(0.15 * len(train_dataset))\n",
        "train_size = len(train_dataset) - val_size\n",
        "train_dataset, val_dataset = random_split(train_dataset, [train_size, val_size])\n"
      ],
      "metadata": {
        "id": "XCOcPqXBb3nh"
      },
      "execution_count": 6,
      "outputs": []
    },
    {
      "cell_type": "code",
      "source": [
        "# Create data loaders\n",
        "train_loader = DataLoader(train_dataset, batch_size=64, shuffle=True)\n",
        "val_loader = DataLoader(val_dataset, batch_size=64, shuffle=False)\n",
        "test_loader = DataLoader(test_dataset, batch_size=64, shuffle=False)\n"
      ],
      "metadata": {
        "id": "OTVdNqXbcLvZ"
      },
      "execution_count": 7,
      "outputs": []
    },
    {
      "cell_type": "code",
      "source": [
        "# Define the model, loss function, and optimizer\n",
        "net = RIFormer(emb_type='rot', n_class=10)"
      ],
      "metadata": {
        "id": "hxwfbbBycP0J"
      },
      "execution_count": 8,
      "outputs": []
    },
    {
      "cell_type": "code",
      "source": [
        "# Training setup\n",
        "device = torch.device(\"cuda\" if torch.cuda.is_available() else \"cpu\")\n",
        "model = RIFormer(emb_type='rot', n_class=10).to(device)\n",
        "criterion = nn.CrossEntropyLoss()\n",
        "optimizer = optim.SGD(model.parameters(), lr=0.01, momentum=0.9, weight_decay=5e-4)\n",
        "scheduler = optim.lr_scheduler.ReduceLROnPlateau(optimizer, mode='min', factor=0.1, patience=5, verbose=True)\n"
      ],
      "metadata": {
        "id": "UD6xkuKscbGG",
        "colab": {
          "base_uri": "https://localhost:8080/"
        },
        "outputId": "6163e311-0752-40f3-99e2-d5fe7b2969e8"
      },
      "execution_count": 9,
      "outputs": [
        {
          "output_type": "stream",
          "name": "stderr",
          "text": [
            "/usr/local/lib/python3.10/dist-packages/torch/optim/lr_scheduler.py:28: UserWarning: The verbose parameter is deprecated. Please use get_last_lr() to access the learning rate.\n",
            "  warnings.warn(\"The verbose parameter is deprecated. Please use get_last_lr() \"\n"
          ]
        }
      ]
    },
    {
      "cell_type": "code",
      "source": [
        "# Function to validate the model\n",
        "def validate_model(model, val_loader, criterion):\n",
        "    model.eval()\n",
        "    val_loss = 0.0\n",
        "    with torch.no_grad():\n",
        "        for inputs, labels in val_loader:\n",
        "            inputs, labels = inputs.to(device), labels.to(device)\n",
        "            outputs = model(inputs)\n",
        "            loss = criterion(outputs, labels)\n",
        "            val_loss += loss.item()\n",
        "    return val_loss / len(val_loader)"
      ],
      "metadata": {
        "id": "t4TRhmXGcier"
      },
      "execution_count": 10,
      "outputs": []
    },
    {
      "cell_type": "code",
      "source": [
        "# Function to train the model\n",
        "def train_model(model, train_loader, val_loader, criterion, optimizer, scheduler, num_epochs=30):\n",
        "    best_val_loss = float('inf')\n",
        "    for epoch in range(num_epochs):\n",
        "        model.train()\n",
        "        running_loss = 0.0\n",
        "        for inputs, labels in train_loader:\n",
        "            inputs, labels = inputs.to(device), labels.to(device)\n",
        "            optimizer.zero_grad()\n",
        "            outputs = model(inputs)\n",
        "            loss = criterion(outputs, labels)\n",
        "            loss.backward()\n",
        "            optimizer.step()\n",
        "            running_loss += loss.item()\n",
        "\n",
        "        # Validate the model\n",
        "        val_loss = validate_model(model, val_loader, criterion)\n",
        "        print(f\"Epoch [{epoch+1}/{num_epochs}], Training Loss: {running_loss/len(train_loader):.4f}, Validation Loss: {val_loss:.4f}\")\n",
        "\n",
        "        # Step the scheduler\n",
        "        scheduler.step(val_loss)\n",
        "\n",
        "        # Save the model if validation loss has improved\n",
        "        if val_loss < best_val_loss:\n",
        "            best_val_loss = val_loss\n",
        "            torch.save(model.state_dict(), 'best_model.pth')\n",
        "            print(f\"Model saved at epoch {epoch+1} with validation loss {best_val_loss:.4f}\")\n",
        "\n",
        "    print(\"Training complete. Best validation loss: {:.4f}\".format(best_val_loss))\n"
      ],
      "metadata": {
        "id": "TM4Xxwzcc6fC"
      },
      "execution_count": 11,
      "outputs": []
    },
    {
      "cell_type": "code",
      "source": [
        "# Function to test the model\n",
        "def test_model(model, test_loader):\n",
        "    model.eval()\n",
        "    correct = 0\n",
        "    total = 0\n",
        "    with torch.no_grad():\n",
        "        for inputs, labels in test_loader:\n",
        "            inputs, labels = inputs.to(device), labels.to(device)\n",
        "            outputs = model(inputs)\n",
        "            _, predicted = torch.max(outputs.data, 1)\n",
        "            total += labels.size(0)\n",
        "            correct += (predicted == labels).sum().item()\n",
        "    print(\"Test Accuracy: {:.4f}\".format(correct / total))"
      ],
      "metadata": {
        "id": "OHYpI3iZdGtr"
      },
      "execution_count": 12,
      "outputs": []
    },
    {
      "cell_type": "code",
      "source": [
        "# Train the model\n",
        "train_model(model, train_loader, val_loader, criterion, optimizer, scheduler, num_epochs=30)\n"
      ],
      "metadata": {
        "colab": {
          "base_uri": "https://localhost:8080/"
        },
        "id": "ylndymW1dOnP",
        "outputId": "e0b7d920-549e-4b9a-9902-a1af4412e52f"
      },
      "execution_count": 13,
      "outputs": [
        {
          "output_type": "stream",
          "name": "stdout",
          "text": [
            "Epoch [1/30], Training Loss: 1.0107, Validation Loss: 1.3082\n",
            "Model saved at epoch 1 with validation loss 1.3082\n",
            "Epoch [2/30], Training Loss: 0.6748, Validation Loss: 0.9407\n",
            "Model saved at epoch 2 with validation loss 0.9407\n",
            "Epoch [3/30], Training Loss: 0.5379, Validation Loss: 0.8886\n",
            "Model saved at epoch 3 with validation loss 0.8886\n",
            "Epoch [4/30], Training Loss: 0.4749, Validation Loss: 0.7932\n",
            "Model saved at epoch 4 with validation loss 0.7932\n",
            "Epoch [5/30], Training Loss: 0.4206, Validation Loss: 0.8327\n",
            "Epoch [6/30], Training Loss: 0.3841, Validation Loss: 1.0510\n",
            "Epoch [7/30], Training Loss: 0.3490, Validation Loss: 0.5105\n",
            "Model saved at epoch 7 with validation loss 0.5105\n",
            "Epoch [8/30], Training Loss: 0.3292, Validation Loss: 0.3853\n",
            "Model saved at epoch 8 with validation loss 0.3853\n",
            "Epoch [9/30], Training Loss: 0.3160, Validation Loss: 0.6834\n",
            "Epoch [10/30], Training Loss: 0.3005, Validation Loss: 1.3532\n",
            "Epoch [11/30], Training Loss: 0.2809, Validation Loss: 0.5253\n",
            "Epoch [12/30], Training Loss: 0.2732, Validation Loss: 1.7111\n",
            "Epoch [13/30], Training Loss: 0.2635, Validation Loss: 0.6136\n",
            "Epoch [14/30], Training Loss: 0.2566, Validation Loss: 1.8300\n",
            "Epoch [15/30], Training Loss: 0.1577, Validation Loss: 0.2677\n",
            "Model saved at epoch 15 with validation loss 0.2677\n",
            "Epoch [16/30], Training Loss: 0.1352, Validation Loss: 0.2625\n",
            "Model saved at epoch 16 with validation loss 0.2625\n",
            "Epoch [17/30], Training Loss: 0.1217, Validation Loss: 0.2665\n",
            "Epoch [18/30], Training Loss: 0.1127, Validation Loss: 0.2712\n",
            "Epoch [19/30], Training Loss: 0.1088, Validation Loss: 0.2738\n",
            "Epoch [20/30], Training Loss: 0.1043, Validation Loss: 0.2843\n",
            "Epoch [21/30], Training Loss: 0.0988, Validation Loss: 0.2752\n",
            "Epoch [22/30], Training Loss: 0.0950, Validation Loss: 0.2791\n",
            "Epoch [23/30], Training Loss: 0.0823, Validation Loss: 0.2754\n",
            "Epoch [24/30], Training Loss: 0.0788, Validation Loss: 0.2758\n",
            "Epoch [25/30], Training Loss: 0.0788, Validation Loss: 0.2787\n",
            "Epoch [26/30], Training Loss: 0.0768, Validation Loss: 0.2782\n",
            "Epoch [27/30], Training Loss: 0.0787, Validation Loss: 0.2777\n",
            "Epoch [28/30], Training Loss: 0.0775, Validation Loss: 0.2776\n",
            "Epoch [29/30], Training Loss: 0.0767, Validation Loss: 0.2796\n",
            "Epoch [30/30], Training Loss: 0.0737, Validation Loss: 0.2806\n",
            "Training complete. Best validation loss: 0.2625\n"
          ]
        }
      ]
    },
    {
      "cell_type": "code",
      "source": [
        "# Test the model on the same rotation\n",
        "print(\"Testing on rotated MNIST dataset\")\n",
        "test_model(model, test_loader)"
      ],
      "metadata": {
        "id": "lprKxbtNdS-R",
        "colab": {
          "base_uri": "https://localhost:8080/"
        },
        "outputId": "5f046eb0-0c0b-4261-a870-49ed7fc43ee1"
      },
      "execution_count": 14,
      "outputs": [
        {
          "output_type": "stream",
          "name": "stdout",
          "text": [
            "Testing on rotated MNIST dataset\n",
            "Test Accuracy: 0.9207\n"
          ]
        }
      ]
    },
    {
      "cell_type": "code",
      "source": [],
      "metadata": {
        "id": "2Ty6NSBKdWYy"
      },
      "execution_count": 14,
      "outputs": []
    }
  ]
}