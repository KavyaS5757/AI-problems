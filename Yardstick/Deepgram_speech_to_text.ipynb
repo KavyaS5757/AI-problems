{
  "nbformat": 4,
  "nbformat_minor": 0,
  "metadata": {
    "colab": {
      "provenance": [],
      "authorship_tag": "ABX9TyP2gnd05QRcaQfqSe84Ygzd",
      "include_colab_link": true
    },
    "kernelspec": {
      "name": "python3",
      "display_name": "Python 3"
    },
    "language_info": {
      "name": "python"
    }
  },
  "cells": [
    {
      "cell_type": "markdown",
      "metadata": {
        "id": "view-in-github",
        "colab_type": "text"
      },
      "source": [
        "<a href=\"https://colab.research.google.com/github/KavyaS5757/AI-problems/blob/main/Yardstick/Deepgram_speech_to_text.ipynb\" target=\"_parent\"><img src=\"https://colab.research.google.com/assets/colab-badge.svg\" alt=\"Open In Colab\"/></a>"
      ]
    },
    {
      "cell_type": "code",
      "execution_count": null,
      "metadata": {
        "colab": {
          "base_uri": "https://localhost:8080/",
          "height": 35
        },
        "id": "QngbYjNq82y9",
        "outputId": "e3d78d59-e787-4eff-cd1c-2f45b1422de0"
      },
      "outputs": [
        {
          "output_type": "execute_result",
          "data": {
            "text/plain": [
              "'/content/video'"
            ],
            "application/vnd.google.colaboratory.intrinsic+json": {
              "type": "string"
            }
          },
          "metadata": {},
          "execution_count": 5
        }
      ],
      "source": [
        "import pytube\n",
        "\n",
        "# YouTube video URL\n",
        "video_url = \"https://www.youtube.com/watch?v=y48WlxiLlNY\"\n",
        "\n",
        "# Initialize YouTube object\n",
        "yt = pytube.YouTube(video_url)\n",
        "\n",
        "# Select the highest resolution stream\n",
        "video_stream = yt.streams.get_highest_resolution()\n",
        "\n",
        "# Download the video\n",
        "video_stream.download(filename=\"video\")\n"
      ]
    },
    {
      "cell_type": "code",
      "source": [
        "pip list | grep PyTube"
      ],
      "metadata": {
        "id": "9PpsoVMw9fbp"
      },
      "execution_count": null,
      "outputs": []
    },
    {
      "cell_type": "code",
      "source": [
        "!sudo pip install PyTube"
      ],
      "metadata": {
        "colab": {
          "base_uri": "https://localhost:8080/"
        },
        "id": "oaieN4Z39Nrz",
        "outputId": "801a6cc8-0e10-4b3d-b2b7-0220acc650df"
      },
      "execution_count": null,
      "outputs": [
        {
          "output_type": "stream",
          "name": "stdout",
          "text": [
            "Collecting PyTube\n",
            "  Downloading pytube-15.0.0-py3-none-any.whl (57 kB)\n",
            "\u001b[2K     \u001b[90m━━━━━━━━━━━━━━━━━━━━━━━━━━━━━━━━━━━━━━━━\u001b[0m \u001b[32m57.6/57.6 kB\u001b[0m \u001b[31m1.1 MB/s\u001b[0m eta \u001b[36m0:00:00\u001b[0m\n",
            "\u001b[?25hInstalling collected packages: PyTube\n",
            "Successfully installed PyTube-15.0.0\n"
          ]
        }
      ]
    },
    {
      "cell_type": "code",
      "source": [
        "import moviepy.editor as mp\n",
        "\n",
        "# Load the video file\n",
        "video = mp.VideoFileClip(\"/content/video\")\n",
        "\n",
        "# Extract audio\n",
        "audio = video.audio\n",
        "\n",
        "# Save the audio file\n",
        "audio.write_audiofile(\"audio.mp3\")\n"
      ],
      "metadata": {
        "colab": {
          "base_uri": "https://localhost:8080/"
        },
        "id": "m-wYQt_f9ejQ",
        "outputId": "9b95a81a-0446-4111-e38f-4816b04b6b85"
      },
      "execution_count": null,
      "outputs": [
        {
          "output_type": "stream",
          "name": "stdout",
          "text": [
            "MoviePy - Writing audio in audio.mp3\n"
          ]
        },
        {
          "output_type": "stream",
          "name": "stderr",
          "text": [
            "                                                                      "
          ]
        },
        {
          "output_type": "stream",
          "name": "stdout",
          "text": [
            "MoviePy - Done.\n"
          ]
        },
        {
          "output_type": "stream",
          "name": "stderr",
          "text": [
            "\r"
          ]
        }
      ]
    },
    {
      "cell_type": "code",
      "source": [
        "import requests\n",
        "\n",
        "# Deepgram API endpoint\n",
        "api_endpoint = \"https://api.deepgram.com/v1/listen\"\n",
        "\n",
        "# Deepgram API token\n",
        "api_token = \"64bcb3683d965488a04d6c2cfcc884b85df12318\"\n",
        "\n",
        "# Audio file path\n",
        "audio_file = \"audio.mp3\"\n",
        "\n",
        "# Make a POST request to Deepgram API\n",
        "files = {'content': open(audio_file, 'rb')}\n",
        "headers = {'Authorization': f'Token {api_token}'}\n",
        "response = requests.post(api_endpoint, files=files, headers=headers)\n",
        "\n",
        "# Print the response JSON\n",
        "print(response.json())\n",
        "\n",
        "# Extract the transcription if the response is successful\n",
        "if response.status_code == 200:\n",
        "    # Extract the transcription result if available\n",
        "    if \"results\" in response.json() and response.json()[\"results\"]:\n",
        "        transcription = response.json()[\"results\"][\"channels\"][0][\"alternatives\"][0][\"transcript\"]\n",
        "        print(transcription)\n",
        "    else:\n",
        "        print(\"No transcription found in the response.\")\n",
        "else:\n",
        "    print(\"Error:\", response.status_code)\n"
      ],
      "metadata": {
        "colab": {
          "base_uri": "https://localhost:8080/"
        },
        "id": "kDglW-7D9z3U",
        "outputId": "678e7dca-d1ed-41eb-9dde-38b4543447b2"
      },
      "execution_count": null,
      "outputs": [
        {
          "output_type": "stream",
          "name": "stdout",
          "text": [
            "{'metadata': {'transaction_key': 'deprecated', 'request_id': 'aeeacc3e-cf92-46b6-8714-fd0c588a85fd', 'sha256': 'cf13417657773b2cb454ffffe35fde2a02858b4d67e2bc4d34c944346ac521ee', 'created': '2024-05-01T17:00:12.308Z', 'duration': 91.97713, 'channels': 1, 'models': ['1ed36bac-f71c-4f3f-a31f-02fd6525c489'], 'model_info': {'1ed36bac-f71c-4f3f-a31f-02fd6525c489': {'name': 'general', 'version': '2024-01-26.8851', 'arch': 'base'}}}, 'results': {'channels': [{'alternatives': [{'transcript': \"the monday makes you laugh a loose button burnt toes the scent of the detergent on your clothes three cats in a row on the way to the park the moon making its way through the tongue a pillow under your feet to sleep birds balancing on electric wires industry a coffee receipt stuck at the back of your purse from twenty sixteen that old familiar tear in your favorite genes things they never noticed like you or didn't pay enough attention to and so call it beautiful call it beautiful that you can admire this small universes that the world fails to see that you can love yourself enough to pass through loss and through grief that you still find beauty around you in what can only be described as a tangled mess life so on days you feel the need to be loved by someone else but there is no one to turn do bear witness to yourself to the universe you hold within you and gently whisper my my you are beautiful hey thank you for watching my video make sure you like comment and share so it reaches more poetry lovers out there don't forget to subscribe i will be back with a new video very soon and\", 'confidence': 0.99316406, 'words': [{'word': 'the', 'start': 3.8616982, 'end': 3.9413207, 'confidence': 0.99658203}, {'word': 'monday', 'start': 4.100566, 'end': 4.600566, 'confidence': 0.6777344}, {'word': 'makes', 'start': 4.737547, 'end': 5.056038, 'confidence': 0.99853516}, {'word': 'you', 'start': 5.056038, 'end': 5.215283, 'confidence': 0.9975586}, {'word': 'laugh', 'start': 5.215283, 'end': 5.454151, 'confidence': 0.99902344}, {'word': 'a', 'start': 6.0115094, 'end': 6.170755, 'confidence': 0.9614258}, {'word': 'loose', 'start': 6.170755, 'end': 6.5688677, 'confidence': 0.75097656}, {'word': 'button', 'start': 6.5688677, 'end': 6.966981, 'confidence': 0.99609375}, {'word': 'burnt', 'start': 7.444717, 'end': 7.922453, 'confidence': 0.9135742}, {'word': 'toes', 'start': 7.922453, 'end': 8.240943, 'confidence': 0.6220703}, {'word': 'the', 'start': 8.733379, 'end': 8.971991, 'confidence': 0.96484375}, {'word': 'scent', 'start': 8.971991, 'end': 9.210602, 'confidence': 0.9316406}, {'word': 'of', 'start': 9.210602, 'end': 9.449213, 'confidence': 0.9897461}, {'word': 'the', 'start': 9.449213, 'end': 9.608287, 'confidence': 0.73095703}, {'word': 'detergent', 'start': 9.608287, 'end': 10.108287, 'confidence': 0.9980469}, {'word': 'on', 'start': 10.165047, 'end': 10.403657, 'confidence': 0.9980469}, {'word': 'your', 'start': 10.403657, 'end': 10.721806, 'confidence': 0.99853516}, {'word': 'clothes', 'start': 10.721806, 'end': 11.039953, 'confidence': 0.9980469}, {'word': 'three', 'start': 11.755787, 'end': 12.073935, 'confidence': 0.99902344}, {'word': 'cats', 'start': 12.073935, 'end': 12.392083, 'confidence': 0.9760742}, {'word': 'in', 'start': 12.392083, 'end': 12.551157, 'confidence': 0.9980469}, {'word': 'a', 'start': 12.551157, 'end': 12.710232, 'confidence': 0.9975586}, {'word': 'row', 'start': 12.710232, 'end': 12.948843, 'confidence': 1.0}, {'word': 'on', 'start': 12.948843, 'end': 13.028379, 'confidence': 0.9501953}, {'word': 'the', 'start': 13.028379, 'end': 13.187453, 'confidence': 0.98095703}, {'word': 'way', 'start': 13.187453, 'end': 13.4260645, 'confidence': 0.99609375}, {'word': 'to', 'start': 13.4260645, 'end': 13.585138, 'confidence': 0.9951172}, {'word': 'the', 'start': 13.585138, 'end': 13.82375, 'confidence': 0.9951172}, {'word': 'park', 'start': 13.82375, 'end': 14.062361, 'confidence': 0.9501953}, {'word': 'the', 'start': 14.380508, 'end': 14.61912, 'confidence': 0.99902344}, {'word': 'moon', 'start': 14.61912, 'end': 14.857731, 'confidence': 0.99609375}, {'word': 'making', 'start': 15.096342, 'end': 15.494028, 'confidence': 0.9975586}, {'word': 'its', 'start': 15.494028, 'end': 15.812176, 'confidence': 0.9506836}, {'word': 'way', 'start': 15.812176, 'end': 16.050787, 'confidence': 0.9995117}, {'word': 'through', 'start': 16.050787, 'end': 16.289398, 'confidence': 0.9941406}, {'word': 'the', 'start': 16.289398, 'end': 16.448471, 'confidence': 0.99609375}, {'word': 'tongue', 'start': 16.448471, 'end': 16.607546, 'confidence': 0.40576172}, {'word': 'a', 'start': 17.418125, 'end': 17.577291, 'confidence': 0.96484375}, {'word': 'pillow', 'start': 17.577291, 'end': 17.895624, 'confidence': 0.99853516}, {'word': 'under', 'start': 18.134375, 'end': 18.532291, 'confidence': 0.99902344}, {'word': 'your', 'start': 18.532291, 'end': 18.771042, 'confidence': 0.9980469}, {'word': 'feet', 'start': 18.771042, 'end': 19.089375, 'confidence': 0.9897461}, {'word': 'to', 'start': 19.089375, 'end': 19.407707, 'confidence': 0.99609375}, {'word': 'sleep', 'start': 19.407707, 'end': 19.566875, 'confidence': 0.9941406}, {'word': 'birds', 'start': 20.20354, 'end': 20.601458, 'confidence': 0.7973633}, {'word': 'balancing', 'start': 20.601458, 'end': 21.101458, 'confidence': 0.99560547}, {'word': 'on', 'start': 21.238125, 'end': 21.556458, 'confidence': 0.99658203}, {'word': 'electric', 'start': 21.556458, 'end': 22.033958, 'confidence': 0.99853516}, {'word': 'wires', 'start': 22.033958, 'end': 22.533958, 'confidence': 0.99316406}, {'word': 'industry', 'start': 23.06854, 'end': 23.227707, 'confidence': 0.6098633}, {'word': 'a', 'start': 23.705208, 'end': 23.943958, 'confidence': 0.9946289}, {'word': 'coffee', 'start': 23.943958, 'end': 24.421457, 'confidence': 0.9980469}, {'word': 'receipt', 'start': 24.421457, 'end': 24.580624, 'confidence': 0.87109375}, {'word': 'stuck', 'start': 25.058125, 'end': 25.376457, 'confidence': 0.9975586}, {'word': 'at', 'start': 25.376457, 'end': 25.456041, 'confidence': 0.9995117}, {'word': 'the', 'start': 25.456041, 'end': 25.69479, 'confidence': 0.9980469}, {'word': 'back', 'start': 25.69479, 'end': 25.853958, 'confidence': 0.99902344}, {'word': 'of', 'start': 25.853958, 'end': 26.013124, 'confidence': 0.9980469}, {'word': 'your', 'start': 26.013124, 'end': 26.251873, 'confidence': 0.9975586}, {'word': 'purse', 'start': 26.251873, 'end': 26.625, 'confidence': 0.9555664}, {'word': 'from', 'start': 26.664944, 'end': 26.904602, 'confidence': 0.99316406}, {'word': 'twenty', 'start': 26.904602, 'end': 27.224148, 'confidence': 0.99609375}, {'word': 'sixteen', 'start': 27.224148, 'end': 27.703466, 'confidence': 0.99853516}, {'word': 'that', 'start': 28.182785, 'end': 28.502329, 'confidence': 0.98779297}, {'word': 'old', 'start': 28.502329, 'end': 28.981647, 'confidence': 0.8251953}, {'word': 'familiar', 'start': 28.981647, 'end': 29.460966, 'confidence': 0.9941406}, {'word': 'tear', 'start': 29.460966, 'end': 29.860397, 'confidence': 0.90478516}, {'word': 'in', 'start': 29.860397, 'end': 29.940285, 'confidence': 0.9975586}, {'word': 'your', 'start': 29.940285, 'end': 30.25983, 'confidence': 0.99658203}, {'word': 'favorite', 'start': 30.25983, 'end': 30.739147, 'confidence': 0.9746094}, {'word': 'genes', 'start': 30.739147, 'end': 30.978806, 'confidence': 0.68652344}, {'word': 'things', 'start': 31.697784, 'end': 32.1771, 'confidence': 0.99609375}, {'word': 'they', 'start': 32.1771, 'end': 32.416763, 'confidence': 0.9902344}, {'word': 'never', 'start': 32.416763, 'end': 32.736305, 'confidence': 0.9995117}, {'word': 'noticed', 'start': 32.736305, 'end': 33.236305, 'confidence': 0.99365234}, {'word': 'like', 'start': 33.53517, 'end': 33.67, 'confidence': 0.9873047}, {'word': 'you', 'start': 33.789223, 'end': 34.289223, 'confidence': 0.9863281}, {'word': 'or', 'start': 34.425083, 'end': 34.663532, 'confidence': 0.99902344}, {'word': \"didn't\", 'start': 34.663532, 'end': 35.060947, 'confidence': 0.99316406}, {'word': 'pay', 'start': 35.060947, 'end': 35.378876, 'confidence': 0.9980469}, {'word': 'enough', 'start': 35.378876, 'end': 35.878876, 'confidence': 0.9995117}, {'word': 'attention', 'start': 35.935257, 'end': 36.25319, 'confidence': 0.99902344}, {'word': 'to', 'start': 36.25319, 'end': 36.75319, 'confidence': 0.94189453}, {'word': 'and', 'start': 37.048016, 'end': 37.365948, 'confidence': 0.99121094}, {'word': 'so', 'start': 37.365948, 'end': 37.604393, 'confidence': 0.9980469}, {'word': 'call', 'start': 38.399223, 'end': 38.55819, 'confidence': 0.99609375}, {'word': 'it', 'start': 38.55819, 'end': 38.71715, 'confidence': 0.99658203}, {'word': 'beautiful', 'start': 38.71715, 'end': 39.21715, 'confidence': 0.97216797}, {'word': 'call', 'start': 40.06836, 'end': 40.227325, 'confidence': 0.9980469}, {'word': 'it', 'start': 40.227325, 'end': 40.545258, 'confidence': 0.9980469}, {'word': 'beautiful', 'start': 40.545258, 'end': 41.045258, 'confidence': 0.9633789}, {'word': 'that', 'start': 41.2606, 'end': 41.49905, 'confidence': 0.99609375}, {'word': 'you', 'start': 41.49905, 'end': 41.89646, 'confidence': 0.9995117}, {'word': 'can', 'start': 41.89646, 'end': 42.37336, 'confidence': 0.9975586}, {'word': 'admire', 'start': 42.37336, 'end': 42.69129, 'confidence': 1.0}, {'word': 'this', 'start': 42.69129, 'end': 42.905, 'confidence': 0.85546875}, {'word': 'small', 'start': 43.104443, 'end': 43.604443, 'confidence': 0.9848633}, {'word': 'universes', 'start': 43.662888, 'end': 44.141556, 'confidence': 0.9433594}, {'word': 'that', 'start': 44.141556, 'end': 44.30111, 'confidence': 0.9951172}, {'word': 'the', 'start': 44.30111, 'end': 44.540443, 'confidence': 0.99902344}, {'word': 'world', 'start': 44.540443, 'end': 45.01911, 'confidence': 0.9995117}, {'word': 'fails', 'start': 45.01911, 'end': 45.497776, 'confidence': 0.984375}, {'word': 'to', 'start': 45.497776, 'end': 45.657333, 'confidence': 0.9995117}, {'word': 'see', 'start': 45.657333, 'end': 46.157333, 'confidence': 0.9980469}, {'word': 'that', 'start': 46.215775, 'end': 46.45511, 'confidence': 0.99316406}, {'word': 'you', 'start': 46.45511, 'end': 46.77422, 'confidence': 0.9980469}, {'word': 'can', 'start': 46.77422, 'end': 47.013554, 'confidence': 0.99072266}, {'word': 'love', 'start': 47.013554, 'end': 47.513554, 'confidence': 0.99853516}, {'word': 'yourself', 'start': 47.572, 'end': 48.050667, 'confidence': 0.99560547}, {'word': 'enough', 'start': 48.050667, 'end': 48.289997, 'confidence': 1.0}, {'word': 'to', 'start': 48.289997, 'end': 48.609108, 'confidence': 0.9975586}, {'word': 'pass', 'start': 48.609108, 'end': 49.087776, 'confidence': 0.99609375}, {'word': 'through', 'start': 49.087776, 'end': 49.406887, 'confidence': 0.99560547}, {'word': 'loss', 'start': 49.406887, 'end': 49.80578, 'confidence': 0.6191406}, {'word': 'and', 'start': 49.80578, 'end': 50.1, 'confidence': 0.9941406}, {'word': 'through', 'start': 50.219448, 'end': 50.458347, 'confidence': 0.9477539}, {'word': 'grief', 'start': 50.458347, 'end': 50.958347, 'confidence': 0.7114258}, {'word': 'that', 'start': 51.254677, 'end': 51.573208, 'confidence': 0.99560547}, {'word': 'you', 'start': 51.573208, 'end': 52.073208, 'confidence': 0.9873047}, {'word': 'still', 'start': 52.210274, 'end': 52.528805, 'confidence': 0.99560547}, {'word': 'find', 'start': 52.528805, 'end': 52.84734, 'confidence': 0.99658203}, {'word': 'beauty', 'start': 52.84734, 'end': 53.34734, 'confidence': 0.9995117}, {'word': 'around', 'start': 53.4844, 'end': 53.802933, 'confidence': 0.99902344}, {'word': 'you', 'start': 53.802933, 'end': 54.302933, 'confidence': 0.99853516}, {'word': 'in', 'start': 54.44, 'end': 54.599266, 'confidence': 0.95996094}, {'word': 'what', 'start': 54.599266, 'end': 54.838165, 'confidence': 0.9995117}, {'word': 'can', 'start': 54.838165, 'end': 55.077065, 'confidence': 0.9975586}, {'word': 'only', 'start': 55.077065, 'end': 55.475227, 'confidence': 0.99902344}, {'word': 'be', 'start': 55.475227, 'end': 55.953026, 'confidence': 0.99902344}, {'word': 'described', 'start': 55.953026, 'end': 56.430824, 'confidence': 0.9951172}, {'word': 'as', 'start': 56.430824, 'end': 56.59009, 'confidence': 0.99902344}, {'word': 'a', 'start': 56.59009, 'end': 56.82899, 'confidence': 0.99316406}, {'word': 'tangled', 'start': 56.82899, 'end': 57.32899, 'confidence': 0.9589844}, {'word': 'mess', 'start': 57.466053, 'end': 57.966053, 'confidence': 0.9550781}, {'word': 'life', 'start': 58.023483, 'end': 58.523483, 'confidence': 0.9716797}, {'word': 'so', 'start': 58.9939, 'end': 59.153023, 'confidence': 0.99072266}, {'word': 'on', 'start': 59.153023, 'end': 59.47127, 'confidence': 0.86376953}, {'word': 'days', 'start': 59.47127, 'end': 59.630394, 'confidence': 0.9526367}, {'word': 'you', 'start': 59.869076, 'end': 60.10776, 'confidence': 0.98828125}, {'word': 'feel', 'start': 60.10776, 'end': 60.346447, 'confidence': 0.99658203}, {'word': 'the', 'start': 60.346447, 'end': 60.58513, 'confidence': 0.99609375}, {'word': 'need', 'start': 60.58513, 'end': 60.823814, 'confidence': 0.99853516}, {'word': 'to', 'start': 60.823814, 'end': 61.0625, 'confidence': 0.9975586}, {'word': 'be', 'start': 61.0625, 'end': 61.30118, 'confidence': 0.99853516}, {'word': 'loved', 'start': 61.30118, 'end': 61.69899, 'confidence': 0.9951172}, {'word': 'by', 'start': 61.69899, 'end': 61.937675, 'confidence': 0.9980469}, {'word': 'someone', 'start': 61.937675, 'end': 62.437675, 'confidence': 0.99902344}, {'word': 'else', 'start': 62.494602, 'end': 62.733288, 'confidence': 0.99658203}, {'word': 'but', 'start': 62.89241, 'end': 63.051533, 'confidence': 0.9873047}, {'word': 'there', 'start': 63.051533, 'end': 63.210655, 'confidence': 0.98876953}, {'word': 'is', 'start': 63.210655, 'end': 63.44934, 'confidence': 0.9707031}, {'word': 'no', 'start': 63.44934, 'end': 63.688026, 'confidence': 0.9975586}, {'word': 'one', 'start': 63.688026, 'end': 64.18803, 'confidence': 0.99658203}, {'word': 'to', 'start': 64.32452, 'end': 64.5632, 'confidence': 0.9941406}, {'word': 'turn', 'start': 64.5632, 'end': 64.88145, 'confidence': 0.66748047}, {'word': 'do', 'start': 64.88145, 'end': 65.040565, 'confidence': 0.7553711}, {'word': 'bear', 'start': 65.91574, 'end': 66.15443, 'confidence': 0.8930664}, {'word': 'witness', 'start': 66.15443, 'end': 66.65443, 'confidence': 0.87597656}, {'word': 'to', 'start': 66.71136, 'end': 67.18873, 'confidence': 0.95996094}, {'word': 'yourself', 'start': 67.18873, 'end': 67.34785, 'confidence': 0.99121094}, {'word': 'to', 'start': 68.475655, 'end': 68.6345, 'confidence': 0.76464844}, {'word': 'the', 'start': 68.6345, 'end': 68.79334, 'confidence': 0.98583984}, {'word': 'universe', 'start': 68.79334, 'end': 69.29334, 'confidence': 1.0}, {'word': 'you', 'start': 69.3493, 'end': 69.58756, 'confidence': 0.9951172}, {'word': 'hold', 'start': 69.58756, 'end': 69.82582, 'confidence': 0.98828125}, {'word': 'within', 'start': 69.82582, 'end': 70.22293, 'confidence': 0.9926758}, {'word': 'you', 'start': 70.22293, 'end': 70.72293, 'confidence': 0.99316406}, {'word': 'and', 'start': 71.096565, 'end': 71.41425, 'confidence': 0.94873047}, {'word': 'gently', 'start': 71.41425, 'end': 71.91425, 'confidence': 0.9975586}, {'word': 'whisper', 'start': 71.9702, 'end': 72.44673, 'confidence': 0.99365234}, {'word': 'my', 'start': 73.240944, 'end': 73.55863, 'confidence': 0.99365234}, {'word': 'my', 'start': 73.55863, 'end': 73.87632, 'confidence': 0.8305664}, {'word': 'you', 'start': 74.51169, 'end': 75.01169, 'confidence': 0.99316406}, {'word': 'are', 'start': 75.38533, 'end': 75.62359, 'confidence': 0.99316406}, {'word': 'beautiful', 'start': 75.62359, 'end': 76.12359, 'confidence': 0.9194336}, {'word': 'hey', 'start': 81.118675, 'end': 81.1981, 'confidence': 0.98291016}, {'word': 'thank', 'start': 81.43636, 'end': 81.5952, 'confidence': 0.99365234}, {'word': 'you', 'start': 81.5952, 'end': 81.75404, 'confidence': 0.96435547}, {'word': 'for', 'start': 81.75404, 'end': 81.91289, 'confidence': 0.9902344}, {'word': 'watching', 'start': 81.91289, 'end': 82.15115, 'confidence': 0.99902344}, {'word': 'my', 'start': 82.15115, 'end': 82.38942, 'confidence': 0.98828125}, {'word': 'video', 'start': 82.38942, 'end': 82.627686, 'confidence': 0.99902344}, {'word': 'make', 'start': 82.78653, 'end': 83.02479, 'confidence': 0.99560547}, {'word': 'sure', 'start': 83.02479, 'end': 83.18363, 'confidence': 0.9946289}, {'word': 'you', 'start': 83.18363, 'end': 83.50132, 'confidence': 0.99316406}, {'word': 'like', 'start': 83.50132, 'end': 83.81901, 'confidence': 0.98535156}, {'word': 'comment', 'start': 83.81901, 'end': 84.05727, 'confidence': 0.9897461}, {'word': 'and', 'start': 84.05727, 'end': 84.374954, 'confidence': 0.703125}, {'word': 'share', 'start': 84.374954, 'end': 84.45438, 'confidence': 0.8803711}, {'word': 'so', 'start': 84.61322, 'end': 84.69264, 'confidence': 0.9941406}, {'word': 'it', 'start': 84.69264, 'end': 85.08975, 'confidence': 0.99121094}, {'word': 'reaches', 'start': 85.08975, 'end': 85.40743, 'confidence': 0.9975586}, {'word': 'more', 'start': 85.40743, 'end': 85.6457, 'confidence': 0.98535156}, {'word': 'poetry', 'start': 85.6457, 'end': 86.12223, 'confidence': 0.98828125}, {'word': 'lovers', 'start': 86.12223, 'end': 86.36049, 'confidence': 0.9609375}, {'word': 'out', 'start': 86.36049, 'end': 86.598755, 'confidence': 0.9970703}, {'word': 'there', 'start': 86.598755, 'end': 86.7576, 'confidence': 0.9916992}, {'word': \"don't\", 'start': 87.32836, 'end': 87.64574, 'confidence': 0.9975586}, {'word': 'forget', 'start': 87.64574, 'end': 87.80442, 'confidence': 0.99853516}, {'word': 'to', 'start': 87.80442, 'end': 88.20114, 'confidence': 0.99560547}, {'word': 'subscribe', 'start': 88.20114, 'end': 88.43918, 'confidence': 0.99902344}, {'word': 'i', 'start': 88.59787, 'end': 88.8359, 'confidence': 0.9067383}, {'word': 'will', 'start': 88.8359, 'end': 88.99459, 'confidence': 0.9941406}, {'word': 'be', 'start': 88.99459, 'end': 89.23262, 'confidence': 0.9980469}, {'word': 'back', 'start': 89.23262, 'end': 89.47065, 'confidence': 0.99560547}, {'word': 'with', 'start': 89.47065, 'end': 89.62934, 'confidence': 0.99121094}, {'word': 'a', 'start': 89.62934, 'end': 89.78803, 'confidence': 0.9658203}, {'word': 'new', 'start': 89.78803, 'end': 89.94672, 'confidence': 0.9873047}, {'word': 'video', 'start': 89.94672, 'end': 90.44672, 'confidence': 0.9951172}, {'word': 'very', 'start': 90.50213, 'end': 90.74016, 'confidence': 0.99560547}, {'word': 'soon', 'start': 90.74016, 'end': 90.978195, 'confidence': 0.9995117}, {'word': 'and', 'start': 91.93033, 'end': 91.97713, 'confidence': 0.9897461}]}]}]}}\n",
            "the monday makes you laugh a loose button burnt toes the scent of the detergent on your clothes three cats in a row on the way to the park the moon making its way through the tongue a pillow under your feet to sleep birds balancing on electric wires industry a coffee receipt stuck at the back of your purse from twenty sixteen that old familiar tear in your favorite genes things they never noticed like you or didn't pay enough attention to and so call it beautiful call it beautiful that you can admire this small universes that the world fails to see that you can love yourself enough to pass through loss and through grief that you still find beauty around you in what can only be described as a tangled mess life so on days you feel the need to be loved by someone else but there is no one to turn do bear witness to yourself to the universe you hold within you and gently whisper my my you are beautiful hey thank you for watching my video make sure you like comment and share so it reaches more poetry lovers out there don't forget to subscribe i will be back with a new video very soon and\n"
          ]
        }
      ]
    },
    {
      "cell_type": "code",
      "source": [
        "!pip install gTTs"
      ],
      "metadata": {
        "colab": {
          "base_uri": "https://localhost:8080/"
        },
        "id": "3xm1uTnQGyDm",
        "outputId": "9f499ba1-c0dc-4ca4-83a8-1eb3d15d9959"
      },
      "execution_count": null,
      "outputs": [
        {
          "output_type": "stream",
          "name": "stdout",
          "text": [
            "Collecting gTTs\n",
            "  Downloading gTTS-2.5.1-py3-none-any.whl (29 kB)\n",
            "Requirement already satisfied: requests<3,>=2.27 in /usr/local/lib/python3.10/dist-packages (from gTTs) (2.31.0)\n",
            "Requirement already satisfied: click<8.2,>=7.1 in /usr/local/lib/python3.10/dist-packages (from gTTs) (8.1.7)\n",
            "Requirement already satisfied: charset-normalizer<4,>=2 in /usr/local/lib/python3.10/dist-packages (from requests<3,>=2.27->gTTs) (3.3.2)\n",
            "Requirement already satisfied: idna<4,>=2.5 in /usr/local/lib/python3.10/dist-packages (from requests<3,>=2.27->gTTs) (3.7)\n",
            "Requirement already satisfied: urllib3<3,>=1.21.1 in /usr/local/lib/python3.10/dist-packages (from requests<3,>=2.27->gTTs) (2.0.7)\n",
            "Requirement already satisfied: certifi>=2017.4.17 in /usr/local/lib/python3.10/dist-packages (from requests<3,>=2.27->gTTs) (2024.2.2)\n",
            "Installing collected packages: gTTs\n",
            "Successfully installed gTTs-2.5.1\n"
          ]
        }
      ]
    },
    {
      "cell_type": "code",
      "source": [
        "from gtts import gTTS\n",
        "\n",
        "# Text to be converted to audio\n",
        "text = \"YOUR_TRANSCRIBED_TEXT\"\n",
        "\n",
        "# Language and accent options for Eleven Labs voice (e.g., French)\n",
        "language = 'fr'\n",
        "\n",
        "# Generate audio using gTTS\n",
        "tts = gTTS(text=text, lang=language)\n",
        "\n",
        "# Save the audio file\n",
        "tts.save(\"generated_audio.mp3\")\n"
      ],
      "metadata": {
        "id": "d2luxIPK_XBg"
      },
      "execution_count": null,
      "outputs": []
    },
    {
      "cell_type": "code",
      "source": [],
      "metadata": {
        "id": "ASZNtE4SGoj3"
      },
      "execution_count": null,
      "outputs": []
    }
  ]
}