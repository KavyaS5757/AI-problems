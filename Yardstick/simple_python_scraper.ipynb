{
  "nbformat": 4,
  "nbformat_minor": 0,
  "metadata": {
    "colab": {
      "provenance": [],
      "authorship_tag": "ABX9TyNzx35ycDBa9L6fn136qTm3",
      "include_colab_link": true
    },
    "kernelspec": {
      "name": "python3",
      "display_name": "Python 3"
    },
    "language_info": {
      "name": "python"
    }
  },
  "cells": [
    {
      "cell_type": "markdown",
      "metadata": {
        "id": "view-in-github",
        "colab_type": "text"
      },
      "source": [
        "<a href=\"https://colab.research.google.com/github/KavyaS5757/AI-problems/blob/main/Yardstick/simple_python_scraper.ipynb\" target=\"_parent\"><img src=\"https://colab.research.google.com/assets/colab-badge.svg\" alt=\"Open In Colab\"/></a>"
      ]
    },
    {
      "cell_type": "code",
      "execution_count": 1,
      "metadata": {
        "colab": {
          "base_uri": "https://localhost:8080/"
        },
        "id": "8Ihi0Q36LW8B",
        "outputId": "be036844-5318-48a3-9d0e-3c394b842ba2"
      },
      "outputs": [
        {
          "output_type": "stream",
          "name": "stdout",
          "text": [
            "\n",
            "Amazon may be scaling back its AI-powered Just Walk Out checkout-free tech in its stores in favor of smart shopping carts, but Walmart-owned Sam’s Club says it’s turning to AI to speed up its own exit technology. Instead of requiring store staff to check members’ purchases against their receipts when leaving the store, Sam’s Club customers who pay either at a register or through the Scan & Go mobile app can now walk out of the store without having their purchases double-checked.\n",
            "The technology, unveiled at the Consumer Electronics Show in January, has now been deployed at over 120 clubs across the U.S., which is 20% of the total number of Sam’s Club locations. Since rolling out, the company claims that it has significantly sped up exits, as members leave the store 23% faster. The retailer plans to expand the tech to all its stores by year-end.\n",
            "The system works via a combination of computer vision and digital tech that captures images of customers’ carts and then verifies payment for the items in their basket. Sam’s Club says AI is used in the background to speed up the process. The AI also learns and improves over time as thousands of exit transactions across locations are analyzed.\n",
            "Before the technology was put into place, Sam’s Club members would have to queue up at the store’s exit to wait to have their receipts checked. The new solution keeps them moving along and frees up store staff to focus on other tasks.\n",
            "The company also took a subtle shot at rival Amazon in announcing the expansion, noting that its technology arrives as “other retailers have struggled to deploy similar technology at scale, with some abandoning efforts” — a clear reference to Amazon’s pullback on Just Walk Out. In addition, Amazon had to fend off criticism that its AI tech had relied on 1,000 some human workers to review transactions. Amazon said machine learning had powered its technology and that contractors were only annotating the AI and shopping data to improve the system.\n",
            "By comparison, Sam’s Club says it has less than 40 employees working on deployment of exit technology, including engineering, product, UX, marketing, operations, and real estate.\n",
            "\n"
          ]
        }
      ],
      "source": [
        "import requests\n",
        "from bs4 import BeautifulSoup\n",
        "\n",
        "# URL of the webpage to scrape\n",
        "url = \"https://techcrunch.com/2024/04/30/sams-clubs-ai-powered-exit-tech-reaches-20-of-stores/\"\n",
        "\n",
        "# Send a GET request to the URL\n",
        "response = requests.get(url)\n",
        "\n",
        "# Check if the request was successful (status code 200)\n",
        "if response.status_code == 200:\n",
        "    # Parse the HTML content of the page\n",
        "    soup = BeautifulSoup(response.content, \"html.parser\")\n",
        "\n",
        "    # Find the main content element\n",
        "    article_content = soup.find(\"div\", class_=\"article-content\")\n",
        "\n",
        "    # Print the text content of the article\n",
        "    print(article_content.get_text())\n",
        "else:\n",
        "    print(\"Failed to retrieve the webpage\")\n"
      ]
    },
    {
      "cell_type": "code",
      "source": [],
      "metadata": {
        "id": "wUsOXsQTLd_W"
      },
      "execution_count": null,
      "outputs": []
    }
  ]
}